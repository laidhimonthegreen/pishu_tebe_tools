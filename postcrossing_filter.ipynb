{
 "cells": [
  {
   "cell_type": "markdown",
   "id": "d56a6d81",
   "metadata": {},
   "source": [
    "Блокнот с простым фильтром, основанным на регулярке и определяющем открытки с тегом посткроссинга для \"Пишу тебе\"."
   ]
  },
  {
   "cell_type": "code",
   "execution_count": 2,
   "id": "6a34bd1e",
   "metadata": {},
   "outputs": [],
   "source": [
    "import re\n",
    "import pandas as pd\n",
    "POSTCROSSING_TAG = r'[A-Za-z]{2,3} ?-? ?[0-9]{6,15}' # тег посткроссинга -- например, для RU-1231234\n",
    "PATH_TO_BASE = \"[2023.08.03] Пишу тебе. Корпус (база 1-5).xlsx\" # путь к таблице с данными"
   ]
  },
  {
   "cell_type": "code",
   "execution_count": 14,
   "id": "0cd0f22f",
   "metadata": {},
   "outputs": [],
   "source": [
    "postcard_corpus = pd.read_excel(PATH_TO_BASE)"
   ]
  },
  {
   "cell_type": "code",
   "execution_count": 16,
   "id": "59887df4",
   "metadata": {},
   "outputs": [
    {
     "data": {
      "text/plain": [
       "20108"
      ]
     },
     "execution_count": 16,
     "metadata": {},
     "output_type": "execute_result"
    }
   ],
   "source": [
    "len(postcard_corpus)"
   ]
  },
  {
   "cell_type": "code",
   "execution_count": 17,
   "id": "5903f61a",
   "metadata": {},
   "outputs": [],
   "source": [
    "def is_tag_inside(text: str):\n",
    "    \"\"\"\n",
    "    text: текст, в котором ищем тег посткроссинга\n",
    "    \"\"\"\n",
    "    if re.findall(POSTCROSSING_TAG, text): \n",
    "        return \"Посткроссинг\"\n",
    "    return None"
   ]
  },
  {
   "cell_type": "code",
   "execution_count": 18,
   "id": "42006fd0",
   "metadata": {},
   "outputs": [],
   "source": [
    "postcard_corpus[\"Посткроссинг\"] = postcard_corpus[\"Текст открытки\"].apply(lambda x: is_tag_inside(x))"
   ]
  },
  {
   "cell_type": "code",
   "execution_count": 9,
   "id": "b3337d3f",
   "metadata": {
    "scrolled": true
   },
   "outputs": [],
   "source": [
    "only_postcrossing_pd = postcard_corpus[postcard_corpus[\"Посткроссинг\"] == \"Посткроссинг\"]"
   ]
  },
  {
   "cell_type": "code",
   "execution_count": 12,
   "id": "b1ef84b1",
   "metadata": {},
   "outputs": [],
   "source": [
    "only_postcrossing_pd.to_excel(\"Посткроссинг_ПишуТебе.xlsx\")"
   ]
  }
 ],
 "metadata": {
  "kernelspec": {
   "display_name": "Python 3 (ipykernel)",
   "language": "python",
   "name": "python3"
  },
  "language_info": {
   "codemirror_mode": {
    "name": "ipython",
    "version": 3
   },
   "file_extension": ".py",
   "mimetype": "text/x-python",
   "name": "python",
   "nbconvert_exporter": "python",
   "pygments_lexer": "ipython3",
   "version": "3.9.7"
  }
 },
 "nbformat": 4,
 "nbformat_minor": 5
}
